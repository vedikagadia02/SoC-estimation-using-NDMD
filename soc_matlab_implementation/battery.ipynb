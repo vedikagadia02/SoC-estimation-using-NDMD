{
 "cells": [
  {
   "cell_type": "code",
   "execution_count": 4,
   "metadata": {},
   "outputs": [],
   "source": [
    "import scipy.io\n",
    "import pandas as pd\n",
    "import seaborn as sns\n",
    "import matplotlib.pyplot as plt\n",
    "import os"
   ]
  },
  {
   "cell_type": "code",
   "execution_count": 5,
   "metadata": {},
   "outputs": [],
   "source": [
    "def helperMovingAverage(df):\n",
    "    new_df = df.iloc[::100, [0,1,2,-1]]\n",
    "    new_df.columns = [\"Voltage\", \"Current\", \"Temperature\", \"SOC\"]\n",
    "\n",
    "    # Calculate moving averages\n",
    "    new_df['AverageVoltage'] = new_df['Voltage'].rolling(window=6, min_periods=1).mean()\n",
    "    new_df['AverageCurrent'] = new_df['Current'].rolling(window=6, min_periods=1).mean()\n",
    "\n",
    "    # Reorder columns\n",
    "    new_df = new_df[[\"Voltage\", \"Current\", \"AverageVoltage\", \"AverageCurrent\", \"Temperature\", \"SOC\"]]\n",
    "\n",
    "    return new_df\n"
   ]
  },
  {
   "cell_type": "code",
   "execution_count": 6,
   "metadata": {},
   "outputs": [
    {
     "name": "stdout",
     "output_type": "stream",
     "text": [
      "         Voltage  Current  Temperature      IDK1     IDK2       SOC\n",
      "0       0.385148  0.75102     0.303101  0.385148  0.75102  0.206417\n",
      "1       0.385152  0.75102     0.304591  0.385150  0.75102  0.206417\n",
      "2       0.385156  0.75102     0.306081  0.385152  0.75102  0.206417\n",
      "3       0.385160  0.75102     0.307572  0.385154  0.75102  0.206417\n",
      "4       0.385164  0.75102     0.309062  0.385156  0.75102  0.206417\n",
      "...          ...      ...          ...       ...      ...       ...\n",
      "669951  0.478843  0.75102     0.008477  0.459558  0.75102  0.283243\n",
      "669952  0.478843  0.75102     0.008477  0.459699  0.75102  0.283243\n",
      "669953  0.478843  0.75102     0.008477  0.459839  0.75102  0.283243\n",
      "669954  0.478961  0.75102     0.008477  0.459979  0.75102  0.283243\n",
      "669955  0.478961  0.75102     0.008477  0.460117  0.75102  0.283243\n",
      "\n",
      "[669956 rows x 6 columns]\n",
      "(669956, 6)\n"
     ]
    }
   ],
   "source": [
    "mat = scipy.io.loadmat('./battery_dataset_10to25C/Train/train_10to25C.mat')\n",
    "X = mat['X']\n",
    "Y = mat['Y']    \n",
    "x = X.T\n",
    "y = Y.T\n",
    "df_x = pd.DataFrame(x, columns=['Voltage', 'Current', 'Temperature', 'IDK1', 'IDK2'])\n",
    "df_y = pd.DataFrame(y, columns=['SOC'])\n",
    "df_y.reset_index(drop=True, inplace=True)\n",
    "trainDataFull = pd.concat([df_x, df_y], axis=1)\n",
    "trainDataFull.to_csv('train_dataset.csv', index=False)\n",
    "print(trainDataFull)\n",
    "print(trainDataFull.shape)"
   ]
  },
  {
   "cell_type": "code",
   "execution_count": 36,
   "metadata": {},
   "outputs": [],
   "source": [
    "idx0 = list(range(1, 184258))\n",
    "idx10 = list(range(184258, 337974))\n",
    "idx25 = list(range(337974, 510531))\n",
    "idxN10 = list(range(510531, 669956))\n",
    "\n",
    "trainData0deg = helperMovingAverage(trainDataFull.iloc[idx0, :])\n",
    "trainData10deg = helperMovingAverage(trainDataFull.iloc[idx10, :])\n",
    "trainData25deg = helperMovingAverage(trainDataFull.iloc[idx25, :])\n",
    "trainDataN10deg = helperMovingAverage(trainDataFull.iloc[idxN10, :])\n"
   ]
  },
  {
   "cell_type": "code",
   "execution_count": 37,
   "metadata": {},
   "outputs": [
    {
     "name": "stdout",
     "output_type": "stream",
     "text": [
      "         Voltage  Current  AverageVoltage  AverageCurrent  Temperature  \\\n",
      "1       0.385152  0.75102        0.385152        0.751020     0.304591   \n",
      "101     0.385462  0.75102        0.385307        0.751020     0.457657   \n",
      "201     0.385496  0.75102        0.385370        0.751020     0.623627   \n",
      "301     0.385653  0.75102        0.385441        0.751020     0.771269   \n",
      "401     0.386441  0.75102        0.385641        0.751020     0.847149   \n",
      "...          ...      ...             ...             ...          ...   \n",
      "669531  0.438553  0.75102        0.256802        0.682461     0.036806   \n",
      "669631  0.458176  0.75102        0.301665        0.696795     0.025475   \n",
      "669731  0.468750  0.75102        0.336484        0.704279     0.019809   \n",
      "669831  0.474733  0.75102        0.410066        0.733806     0.014143   \n",
      "669931  0.478368  0.75102        0.452500        0.751020     0.011310   \n",
      "\n",
      "             SOC  \n",
      "1       0.206417  \n",
      "101     0.206417  \n",
      "201     0.206417  \n",
      "301     0.206417  \n",
      "401     0.206417  \n",
      "...          ...  \n",
      "669531  0.283243  \n",
      "669631  0.283243  \n",
      "669731  0.283243  \n",
      "669831  0.283243  \n",
      "669931  0.283243  \n",
      "\n",
      "[6702 rows x 6 columns]\n",
      "(6702, 6)\n"
     ]
    }
   ],
   "source": [
    "trainData = pd.concat([trainData0deg, trainData10deg, trainData25deg, trainDataN10deg])\n",
    "print(trainData)\n",
    "print(trainData.shape)\n"
   ]
  },
  {
   "cell_type": "code",
   "execution_count": null,
   "metadata": {},
   "outputs": [],
   "source": [
    "dataframes = {'0deg': trainData0deg, '10deg': trainData10deg, '25deg': trainData25deg, 'N10deg': trainDataN10deg}\n",
    "columns = ['Voltage', 'Current', 'Temperature', 'SOC']\n",
    "sns.set_style(\"whitegrid\")\n",
    "save_dir = 'dataset_visualisation/train'\n",
    "for key, df in dataframes.items():\n",
    "    df_dir = os.path.join(save_dir, key)\n",
    "    os.makedirs(df_dir, exist_ok=True)\n",
    "    for i in range(len(columns)):\n",
    "        for j in range(len(columns)):\n",
    "            if i == j:\n",
    "                continue\n",
    "            plt.figure(figsize=(10, 8))\n",
    "            sns.lineplot(x=df[columns[i]], y=df[columns[j]])\n",
    "            plt.xlabel(columns[i])\n",
    "            plt.ylabel(columns[j])\n",
    "            plt.savefig(os.path.join(df_dir, f'{columns[j]}_vs_{columns[i]}.png'))\n",
    "\n",
    "        plt.figure(figsize=(8, 6))\n",
    "        sns.lineplot(x=df.index, y=df[columns[i]])\n",
    "        plt.xlabel('Index')\n",
    "        plt.ylabel(columns[i])\n",
    "        plt.savefig(os.path.join(df_dir, f'{columns[i]}_vs_index.png'))\n"
   ]
  },
  {
   "cell_type": "code",
   "execution_count": 40,
   "metadata": {},
   "outputs": [
    {
     "name": "stdout",
     "output_type": "stream",
     "text": [
      "        Voltage   Current  Temperature      IDK1      IDK2       SOC\n",
      "0      0.968130  0.749112     0.260607  0.968130  0.749112  1.000000\n",
      "1      0.962495  0.746992     0.260607  0.965313  0.748052  0.999990\n",
      "2      0.961792  0.747098     0.260607  0.964139  0.747734  0.999983\n",
      "3      0.961555  0.746992     0.260607  0.963493  0.747549  0.999973\n",
      "4      0.961325  0.747098     0.260607  0.963059  0.747459  0.999963\n",
      "...         ...       ...          ...       ...       ...       ...\n",
      "42525  0.413442  0.751020     0.269106  0.402145  0.751020  0.216727\n",
      "42526  0.413442  0.751020     0.269106  0.402244  0.751020  0.216727\n",
      "42527  0.413560  0.751020     0.269106  0.402341  0.751020  0.216727\n",
      "42528  0.413561  0.751020     0.271939  0.402438  0.751020  0.216727\n",
      "42529  0.413561  0.751020     0.271939  0.402534  0.751020  0.216727\n",
      "\n",
      "[42530 rows x 6 columns]\n",
      "(42530, 6)\n",
      "        Voltage   Current  Temperature      IDK1      IDK2       SOC\n",
      "0      0.968019  0.749112     0.521236  0.968019  0.749112  1.000000\n",
      "1      0.965316  0.747098     0.521236  0.966668  0.748105  0.999990\n",
      "2      0.965198  0.746992     0.521236  0.966178  0.747734  0.999983\n",
      "3      0.964961  0.747098     0.518403  0.965874  0.747575  0.999973\n",
      "4      0.964961  0.747098     0.518403  0.965691  0.747480  0.999963\n",
      "...         ...       ...          ...       ...       ...       ...\n",
      "44279  0.335128  0.751020     0.532568  0.329741  0.751020  0.194990\n",
      "44280  0.335128  0.751020     0.532568  0.329778  0.751020  0.194990\n",
      "44281  0.335128  0.751020     0.532568  0.329815  0.751020  0.194990\n",
      "44282  0.335128  0.751020     0.532568  0.329851  0.751020  0.194990\n",
      "44283  0.335128  0.751020     0.532568  0.329888  0.751020  0.194990\n",
      "\n",
      "[44284 rows x 6 columns]\n",
      "(44284, 6)\n",
      "        Voltage   Current  Temperature      IDK1      IDK2       SOC\n",
      "0      0.966960  0.748900     0.920678  0.966960  0.748900  1.000000\n",
      "1      0.966020  0.746992     0.920677  0.966490  0.747946  0.999990\n",
      "2      0.965901  0.746992     0.917845  0.966294  0.747628  0.999983\n",
      "3      0.965783  0.747098     0.917845  0.966166  0.747496  0.999973\n",
      "4      0.965665  0.746992     0.917845  0.966066  0.747395  0.999963\n",
      "...         ...       ...          ...       ...       ...       ...\n",
      "47512  0.298614  0.751020     0.926344  0.292723  0.751020  0.136623\n",
      "47513  0.298614  0.751020     0.926344  0.292761  0.751020  0.136623\n",
      "47514  0.298614  0.751020     0.926344  0.292798  0.751020  0.136623\n",
      "47515  0.298614  0.751020     0.929177  0.292834  0.751020  0.136623\n",
      "47516  0.298614  0.751020     0.929177  0.292871  0.751020  0.136623\n",
      "\n",
      "[47517 rows x 6 columns]\n",
      "(47517, 6)\n",
      "        Voltage   Current  Temperature      IDK1      IDK2       SOC\n",
      "0      0.967308  0.749218     0.005644  0.967308  0.749218  1.000000\n",
      "1      0.957333  0.746992     0.005644  0.962321  0.748105  0.999990\n",
      "2      0.953690  0.747098     0.005644  0.959444  0.747769  0.999983\n",
      "3      0.952046  0.747098     0.005644  0.957594  0.747602  0.999973\n",
      "4      0.951106  0.747098     0.005644  0.956297  0.747501  0.999963\n",
      "...         ...       ...          ...       ...       ...       ...\n",
      "39288  0.481545  0.751020     0.016976  0.463625  0.751020  0.290053\n",
      "39289  0.481545  0.751020     0.016976  0.463768  0.751020  0.290053\n",
      "39290  0.481664  0.751020     0.016976  0.463910  0.751020  0.290053\n",
      "39291  0.481664  0.751020     0.014143  0.464051  0.751020  0.290053\n",
      "39292  0.481664  0.751020     0.016976  0.464191  0.751020  0.290053\n",
      "\n",
      "[39293 rows x 6 columns]\n",
      "(39293, 6)\n"
     ]
    }
   ],
   "source": [
    "files = ['test_0C.mat', 'test_10C.mat', 'test_25C.mat', 'test_neg10C.mat']\n",
    "dir_path = './battery_dataset_10to25C/Test/'\n",
    "\n",
    "for file in files:\n",
    "    mat = scipy.io.loadmat(dir_path + file)\n",
    "    X = mat['X']\n",
    "    Y = mat['Y']    \n",
    "    x = X.T\n",
    "    y = Y.T\n",
    "    df_x = pd.DataFrame(x, columns=['Voltage', 'Current', 'Temperature', 'IDK1', 'IDK2'])\n",
    "    df_y = pd.DataFrame(y, columns=['SOC'])\n",
    "    df_y.reset_index(drop=True, inplace=True)\n",
    "    testDataFull = pd.concat([df_x, df_y], axis=1)\n",
    "    testDataFull.to_csv(file.replace('.mat', '.csv'), index=False)\n",
    "    print(testDataFull)\n",
    "    print(testDataFull.shape)"
   ]
  },
  {
   "cell_type": "code",
   "execution_count": null,
   "metadata": {},
   "outputs": [],
   "source": [
    "files = ['test_0C.csv', 'test_10C.csv', 'test_25C.csv', 'test_neg10C.csv']\n",
    "dataframes = {}\n",
    "for file in files:\n",
    "    df = pd.read_csv(f'./csv_battery_dataset/{file}')\n",
    "    key = file.replace('.csv','')\n",
    "    dataframes[key] = df\n",
    "    \n",
    "columns = ['Voltage', 'Current', 'Temperature', 'SOC']\n",
    "sns.set_style(\"whitegrid\")\n",
    "save_dir = 'dataset_visualisation/test'\n",
    "for key, df in dataframes.items():\n",
    "    df_dir = os.path.join(save_dir, key)\n",
    "    os.makedirs(df_dir, exist_ok=True)\n",
    "    for i in range(len(columns)):\n",
    "        for j in range(len(columns)):\n",
    "            if i == j:\n",
    "                continue\n",
    "            plt.figure(figsize=(10, 8))\n",
    "            sns.lineplot(x=df[columns[i]], y=df[columns[j]])\n",
    "            plt.xlabel(columns[i])\n",
    "            plt.ylabel(columns[j])\n",
    "            plt.savefig(os.path.join(df_dir, f'{columns[j]}_vs_{columns[i]}.png'))\n",
    "\n",
    "        plt.figure(figsize=(8, 6))\n",
    "        sns.lineplot(x=df.index, y=df[columns[i]])\n",
    "        plt.xlabel('Index')\n",
    "        plt.ylabel(columns[i])\n",
    "        plt.savefig(os.path.join(df_dir, f'{columns[i]}_vs_index.png'))\n"
   ]
  },
  {
   "cell_type": "code",
   "execution_count": null,
   "metadata": {},
   "outputs": [],
   "source": []
  }
 ],
 "metadata": {
  "kernelspec": {
   "display_name": "Python 3",
   "language": "python",
   "name": "python3"
  },
  "language_info": {
   "codemirror_mode": {
    "name": "ipython",
    "version": 3
   },
   "file_extension": ".py",
   "mimetype": "text/x-python",
   "name": "python",
   "nbconvert_exporter": "python",
   "pygments_lexer": "ipython3",
   "version": "3.9.6"
  }
 },
 "nbformat": 4,
 "nbformat_minor": 2
}
